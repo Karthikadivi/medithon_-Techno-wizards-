{
  "nbformat": 4,
  "nbformat_minor": 0,
  "metadata": {
    "colab": {
      "provenance": []
    },
    "kernelspec": {
      "name": "python3",
      "display_name": "Python 3"
    },
    "language_info": {
      "name": "python"
    }
  },
  "cells": [
    {
      "cell_type": "code",
      "execution_count": 11,
      "metadata": {
        "id": "8e1ehO4feZBQ",
        "colab": {
          "base_uri": "https://localhost:8080/"
        },
        "outputId": "7e23f666-568d-4a15-e169-bb82127fa540"
      },
      "outputs": [
        {
          "output_type": "stream",
          "name": "stdout",
          "text": [
            "Drive already mounted at /content/drive; to attempt to forcibly remount, call drive.mount(\"/content/drive\", force_remount=True).\n",
            "IMG-20240929-WA0052.jpg  IMG-20240929-WA0054.jpg  IMG-20240929-WA0056.jpg\n",
            "IMG-20240929-WA0053.jpg  IMG-20240929-WA0055.jpg  IMG-20240929-WA0057.jpg\n",
            "cp: missing destination file operand after '/content/drive/MyDrive/MEDITHON/content/MEDITHON'\n",
            "Try 'cp --help' for more information.\n"
          ]
        }
      ],
      "source": [
        "from google.colab import drive\n",
        "drive.mount('/content/drive')\n",
        "!ls /content/drive/MyDrive/MEDITHON\n",
        "\n",
        "!cp -r /content/drive/MyDrive/MEDITHON/content/MEDITHON\n",
        "\n",
        "\n",
        "from PIL import Image\n",
        "\n",
        "# Open an image file\n",
        "image = Image.open('MEDITHON/IMG-20240929-WA0054.jpg')\n",
        "\n",
        "# Display the image\n",
        "image.show()\n",
        "\n",
        "\n",
        "\n",
        "\n"
      ]
    }
  ]
}