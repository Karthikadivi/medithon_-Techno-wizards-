from google.colab import files
uploaded = files.upload()  # Opens a dialog to upload files

# View the uploaded files
uploaded.keys()

import os

# Create a directory to save images
os.makedirs('images', exist_ok=True)

# Save the uploaded files in the 'images' folder
for filename in uploaded.keys():
    with open(os.path.join('images', filename), 'wb') as f:
        f.write(uploaded[filename])

# Verify if the images are saved
!ls images
